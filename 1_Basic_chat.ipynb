{
 "cells": [
  {
   "cell_type": "code",
   "execution_count": null,
   "id": "48f5c39d",
   "metadata": {},
   "outputs": [],
   "source": [
    "from langchain_openai import ChatOpenAI\n",
    "from dotenv import load_dotenv\n",
    "from langchain_core.messages import HumanMessage, SystemMessage\n",
    "import os\n",
    "# we're using this to parse the outputs of the model\n",
    "from langchain_core.output_parsers import StrOutputParser\n",
    "from langchain_core.prompts import ChatPromptTemplate  # creates prompt templates\n",
    "os.environ\n",
    "\n",
    "# Loading the .env file. Using full path to use it in the interactive shell\n",
    "load_dotenv(\"C:\\\\Users\\\\MarcusChiri\\\\Dropbox\\\\Repositories\\\\Langchain\\\\.env\")\n",
    "\n",
    "# Loarding the environment variables\n",
    "os.environ[\"LANGCHAIN_API_KEY\"] = os.getenv(\"LANGCHAIN_API_KEY\")\n",
    "os.environ[\"OPENAI_API_KEY\"] = os.getenv(\"OPENAI_API_KEY\")\n",
    "os.environ[\"LANGCHAIN_TRACING_V2\"] = \"true\""
   ]
  },
  {
   "cell_type": "code",
   "execution_count": null,
   "id": "fd2b9b3f",
   "metadata": {},
   "outputs": [
    {
     "data": {
      "text/plain": [
       "'até mais tarde!'"
      ]
     },
     "execution_count": 3,
     "metadata": {},
     "output_type": "execute_result"
    }
   ],
   "source": [
    "model = ChatOpenAI(model=\"gpt-4\")\n",
    "\n",
    "messages = [\n",
    "    SystemMessage(\n",
    "        content=\"Translate the following from English into Portuguese:\"),\n",
    "    HumanMessage(content=\"see you later!\"),\n",
    "]\n",
    "\n",
    "message_detail = model.invoke(messages)\n",
    "\n",
    "# creating a new instance of the parser, which is used to parse the output of the model\n",
    "parser = StrOutputParser()\n",
    "\n",
    "# here we're passing the output of the model to the parser, which will convert it into a string\n",
    "# parser.invoke(message_detail)\n",
    "\n",
    "# however, the magic in langchain is chaining stuff:\n",
    "chain = model | parser\n",
    "# this is a chain that takes the output of the model and passes it to the parser\n",
    "\n",
    "chain.invoke(messages)"
   ]
  },
  {
   "cell_type": "code",
   "execution_count": null,
   "id": "ac8fa7b6",
   "metadata": {},
   "outputs": [
    {
     "data": {
      "text/plain": [
       "ChatPromptValue(messages=[SystemMessage(content='Translate the following into italian:', additional_kwargs={}, response_metadata={}), HumanMessage(content='hi', additional_kwargs={}, response_metadata={})])"
      ]
     },
     "execution_count": 5,
     "metadata": {},
     "output_type": "execute_result"
    }
   ],
   "source": [
    "system_template = \"Translate the following into {language}:\"\n",
    "\n",
    "prompt_template = ChatPromptTemplate.from_messages(\n",
    "    [(\"system\", system_template), (\"user\", \"{text}\")]\n",
    ")\n",
    "result = prompt_template.invoke({\"language\": \"italian\", \"text\": \"hi\"})\n",
    "\n",
    "result"
   ]
  },
  {
   "cell_type": "code",
   "execution_count": 6,
   "id": "99091206",
   "metadata": {},
   "outputs": [
    {
     "data": {
      "text/plain": [
       "[SystemMessage(content='Translate the following into italian:', additional_kwargs={}, response_metadata={}),\n",
       " HumanMessage(content='hi', additional_kwargs={}, response_metadata={})]"
      ]
     },
     "execution_count": 6,
     "metadata": {},
     "output_type": "execute_result"
    }
   ],
   "source": [
    "result.to_messages()"
   ]
  },
  {
   "cell_type": "code",
   "execution_count": null,
   "id": "76382485",
   "metadata": {},
   "outputs": [
    {
     "data": {
      "text/plain": [
       "'omg est-ce cool'"
      ]
     },
     "execution_count": 9,
     "metadata": {},
     "output_type": "execute_result"
    }
   ],
   "source": [
    "# Chaining it all together:\n",
    "chain = prompt_template | model | parser\n",
    "chain.invoke({\"language\": \"french\", \"text\": \"omg is this cool\"})"
   ]
  }
 ],
 "metadata": {
  "kernelspec": {
   "display_name": "Langchain-iLGQdGpe",
   "language": "python",
   "name": "python3"
  },
  "language_info": {
   "codemirror_mode": {
    "name": "ipython",
    "version": 3
   },
   "file_extension": ".py",
   "mimetype": "text/x-python",
   "name": "python",
   "nbconvert_exporter": "python",
   "pygments_lexer": "ipython3",
   "version": "3.12.10"
  }
 },
 "nbformat": 4,
 "nbformat_minor": 5
}
